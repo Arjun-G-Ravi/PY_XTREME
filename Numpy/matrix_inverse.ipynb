{
  "nbformat": 4,
  "nbformat_minor": 0,
  "metadata": {
    "colab": {
      "provenance": [],
      "authorship_tag": "ABX9TyOmTlxgOHiWApYKtSUaQg6x",
      "include_colab_link": true
    },
    "kernelspec": {
      "name": "python3",
      "display_name": "Python 3"
    },
    "language_info": {
      "name": "python"
    }
  },
  "cells": [
    {
      "cell_type": "markdown",
      "metadata": {
        "id": "view-in-github",
        "colab_type": "text"
      },
      "source": [
        "<a href=\"https://colab.research.google.com/github/aryan-anil/PY_XTREME/blob/main/Numpy/matrix_inverse.ipynb\" target=\"_parent\"><img src=\"https://colab.research.google.com/assets/colab-badge.svg\" alt=\"Open In Colab\"/></a>"
      ]
    },
    {
      "cell_type": "code",
      "execution_count": 3,
      "metadata": {
        "colab": {
          "base_uri": "https://localhost:8080/"
        },
        "id": "lpBJ8WCpMSLs",
        "outputId": "faf51a34-aec1-4043-9ec0-8ed6b0a8cfaf"
      },
      "outputs": [
        {
          "output_type": "stream",
          "name": "stdout",
          "text": [
            "[[ 0.1875  0.25   -0.3125]\n",
            " [ 0.25    0.      0.25  ]\n",
            " [-0.3125  0.25    0.1875]]\n"
          ]
        }
      ],
      "source": [
        "# program to find inverse\n",
        "\n",
        "\n",
        "# Import required numpy\n",
        "import numpy as np\n",
        "\n",
        "\n",
        "A = np.array([[1,2, -1],\n",
        "\t\t\t[2, 1, 2],\n",
        "\t\t\t[-1, 2, 1]])\n",
        "\n",
        "# Calculating the inverse of the matrix\n",
        "#numpy.linalg.int(matrix)\n",
        "print(np.linalg.inv(A))\n"
      ]
    }
  ]
}