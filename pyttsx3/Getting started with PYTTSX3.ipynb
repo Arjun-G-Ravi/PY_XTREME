{
  "nbformat": 4,
  "nbformat_minor": 0,
  "metadata": {
    "colab": {
      "provenance": [],
      "authorship_tag": "ABX9TyNLOXoh5bgpgRBnzKewG2fv",
      "include_colab_link": true
    },
    "kernelspec": {
      "name": "python3",
      "display_name": "Python 3"
    },
    "language_info": {
      "name": "python"
    }
  },
  "cells": [
    {
      "cell_type": "markdown",
      "metadata": {
        "id": "view-in-github",
        "colab_type": "text"
      },
      "source": [
        "<a href=\"https://colab.research.google.com/github/GOVINDFROMINDIA/PY_XTREME/blob/main/pyttsx3/Getting%20started%20with%20PYTTSX3.ipynb\" target=\"_parent\"><img src=\"https://colab.research.google.com/assets/colab-badge.svg\" alt=\"Open In Colab\"/></a>"
      ]
    },
    {
      "cell_type": "code",
      "execution_count": 2,
      "metadata": {
        "colab": {
          "base_uri": "https://localhost:8080/"
        },
        "id": "DhbVMchiZaeQ",
        "outputId": "c5bc7419-44b7-434d-e572-8d883bb64d36"
      },
      "outputs": [
        {
          "output_type": "stream",
          "name": "stdout",
          "text": [
            "Looking in indexes: https://pypi.org/simple, https://us-python.pkg.dev/colab-wheels/public/simple/\n",
            "Requirement already satisfied: pyttsx3 in /usr/local/lib/python3.8/dist-packages (2.90)\n"
          ]
        }
      ],
      "source": [
        "!pip install pyttsx3\n",
        "#Installing pyttsx3 library"
      ]
    },
    {
      "cell_type": "code",
      "source": [
        "import pyttsx3\n",
        "#importing library"
      ],
      "metadata": {
        "id": "eEtqScl8ZiTY"
      },
      "execution_count": 6,
      "outputs": []
    }
  ]
}