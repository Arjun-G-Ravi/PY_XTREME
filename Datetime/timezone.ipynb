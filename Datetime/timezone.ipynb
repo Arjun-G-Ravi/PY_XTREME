{
  "nbformat": 4,
  "nbformat_minor": 0,
  "metadata": {
    "colab": {
      "provenance": [],
      "authorship_tag": "ABX9TyPtBtPKutxyMo8RqUHvNdXQ",
      "include_colab_link": true
    },
    "kernelspec": {
      "name": "python3",
      "display_name": "Python 3"
    },
    "language_info": {
      "name": "python"
    }
  },
  "cells": [
    {
      "cell_type": "markdown",
      "metadata": {
        "id": "view-in-github",
        "colab_type": "text"
      },
      "source": [
        "<a href=\"https://colab.research.google.com/github/aryan-anil/PY_XTREME/blob/a1/Datetime/timezone.ipynb\" target=\"_parent\"><img src=\"https://colab.research.google.com/assets/colab-badge.svg\" alt=\"Open In Colab\"/></a>"
      ]
    },
    {
      "cell_type": "code",
      "execution_count": 6,
      "metadata": {
        "colab": {
          "base_uri": "https://localhost:8080/"
        },
        "id": "UYTdXWD8_sv9",
        "outputId": "8cde1079-30eb-4aaa-8bb1-93b4a4aa84ba"
      },
      "outputs": [
        {
          "output_type": "stream",
          "name": "stdout",
          "text": [
            "Intial timezone: None\n",
            "\n",
            "Asia/Tokyo\n",
            "2022-12-25 01:39:42.438441+09:00\n"
          ]
        }
      ],
      "source": [
        "from datetime import datetime\n",
        "import pytz\n",
        "\n",
        "time1= datetime.now()\n",
        " \n",
        "print(\"Intial timezone:\",time1.tzinfo)\n",
        "print()\n",
        "\n",
        "#setting timezone\n",
        "timezone = pytz.timezone(\"Asia/Tokyo\")\n",
        "print(\"Asia/Tokyo\")\n",
        "## Timezone changed to  Asia/Tokyo\n",
        "time2 = naive.astimezone(timezone)\n",
        "print(time2)"
      ]
    }
  ]
}