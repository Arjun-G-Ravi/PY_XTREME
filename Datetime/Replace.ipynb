{
  "nbformat": 4,
  "nbformat_minor": 0,
  "metadata": {
    "colab": {
      "provenance": [],
      "authorship_tag": "ABX9TyNN9NYsjkEYhrQGrb3/nfIK",
      "include_colab_link": true
    },
    "kernelspec": {
      "name": "python3",
      "display_name": "Python 3"
    },
    "language_info": {
      "name": "python"
    }
  },
  "cells": [
    {
      "cell_type": "markdown",
      "metadata": {
        "id": "view-in-github",
        "colab_type": "text"
      },
      "source": [
        "<a href=\"https://colab.research.google.com/github/aryan-anil/PY_XTREME/blob/a2/Datetime/Replace.ipynb\" target=\"_parent\"><img src=\"https://colab.research.google.com/assets/colab-badge.svg\" alt=\"Open In Colab\"/></a>"
      ]
    },
    {
      "cell_type": "code",
      "execution_count": 2,
      "metadata": {
        "colab": {
          "base_uri": "https://localhost:8080/"
        },
        "id": "0B04SASqCwtC",
        "outputId": "2f316290-d76a-4c57-fbb9-b192c8a415b8"
      },
      "outputs": [
        {
          "output_type": "stream",
          "name": "stdout",
          "text": [
            "Original Date: 2022-12-24\n",
            "Modified Date: 2019-12-24\n"
          ]
        }
      ],
      "source": [
        "#importing the datetime module\n",
        "import datetime\n",
        "\n",
        "#getting current date using today()\n",
        "todays_date = datetime.date.today()\n",
        "print(\"Original Date:\", todays_date)\n",
        "\n",
        "#replacing year with 2019\n",
        "modified_date = todays_date.replace(year=2019)\n",
        "print(\"Modified Date:\", modified_date)\n"
      ]
    }
  ]
}