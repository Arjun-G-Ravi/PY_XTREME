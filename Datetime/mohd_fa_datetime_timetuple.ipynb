{ 
  "nbformat": 4,
  "nbformat_minor": 0,
  "metadata": {


    "colab": {
      "provenance": [],
      "authorship_tag": "ABX9TyOwmcSXenzXn+RvFSVQ1awb",
      "include_colab_link": true
    },
    "kernelspec": {
      "name": "python3",
      "display_name": "Python 3"
    },
    "language_info": {
      "name": "python"
    }
  },
  "cells": [
    {
      "cell_type": "markdown",
      "metadata": {
        "id": "view-in-github",
        "colab_type": "text"
      },
      "source": [
        "<a href=\"https://colab.research.google.com/github/mohd-fa/PY_XTREME-1/blob/main/mohd_fa_datetime_timetuple.ipynb\" target=\"_parent\"><img src=\"https://colab.research.google.com/assets/colab-badge.svg\" alt=\"Open In Colab\"/></a>"
      ]
    },
    {
      "cell_type": "code",
      "execution_count": 1,
      "metadata": {
        "colab": {
          "base_uri": "https://localhost:8080/"
        },
        "id": "EQl5Z3ueAxU8",
        "outputId": "b5581b74-dced-4400-b92f-457adffb9820"
      },
      "outputs": [
        {
          "output_type": "execute_result",
          "data": {
            "text/plain": [
              "datetime.date(2002, 3, 11)"
            ]
          },
          "metadata": {},
          "execution_count": 1
        }
      ],
      "source": [
        "from datetime import date\n",
        "d = date.fromordinal(730920) # 730920th day after 1. 1. 0001\n",
        "d"
      ]
    },
    {
      "cell_type": "code",
      "source": [
        "t = d.timetuple()\n",
        "for i in t:     \n",
        "    print(i)"
      ],
      "metadata": {
        "colab": {
          "base_uri": "https://localhost:8080/"
        },
        "id": "JKsrH3b46mA8",
        "outputId": "06c2271a-7e0e-4fa1-bbed-ab53123e2b9d"
      },
      "execution_count": 2,
      "outputs": [
        {
          "output_type": "stream",
          "name": "stdout",
          "text": [
            "2002\n",
            "3\n",
            "11\n",
            "0\n",
            "0\n",
            "0\n",
            "0\n",
            "70\n",
            "-1\n"
          ]
        }
      ]
    }
  ]
}
