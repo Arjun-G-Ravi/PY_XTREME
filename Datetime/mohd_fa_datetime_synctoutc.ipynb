{
  "nbformat": 4,
  "nbformat_minor": 0,
  "metadata": {
    "colab": {
      "provenance": [],
      "authorship_tag": "ABX9TyOmIoJhqSJ/uVZcwGdNwBov",
      "include_colab_link": true
    },
    "kernelspec": {
      "name": "python3",
      "display_name": "Python 3"
    },
    "language_info": {
      "name": "python"
    }
  },
  "cells": [
    {
      "cell_type": "markdown",
      "metadata": {
        "id": "view-in-github",
        "colab_type": "text"
      },
      "source": [
        "<a href=\"https://colab.research.google.com/github/mohd-fa/PY_XTREME-1/blob/main/Datetime/mohd_fa_datetime_synctoutc.ipynb\" target=\"_parent\"><img src=\"https://colab.research.google.com/assets/colab-badge.svg\" alt=\"Open In Colab\"/></a>"
      ]
    },
    {
      "cell_type": "code",
      "source": [
        "from datetime import timedelta, datetime, tzinfo, timezone\n",
        "\n",
        "class KabulTz(tzinfo):\n",
        "    UTC_MOVE_DATE = datetime(1944, 12, 31, 20, tzinfo=timezone.utc)\n",
        "\n",
        "    def utcoffset(self, dt):\n",
        "        if dt.year < 1945:\n",
        "            return timedelta(hours=4)\n",
        "        elif (1945, 1, 1, 0, 0) <= dt.timetuple()[:5] < (1945, 1, 1, 0, 30):\n",
        "            return timedelta(hours=4, minutes=(30 if dt.fold else 0))\n",
        "        else:\n",
        "            return timedelta(hours=4, minutes=30)\n",
        "\n",
        "    def fromutc(self, dt):\n",
        "        if not isinstance(dt, datetime):\n",
        "            raise TypeError(\"fromutc() requires a datetime argument\")\n",
        "        if dt.tzinfo is not self:\n",
        "            raise ValueError(\"dt.tzinfo is not self\")\n",
        "\n",
        "        if dt.replace(tzinfo=timezone.utc) >= self.UTC_MOVE_DATE:\n",
        "            return dt + timedelta(hours=4, minutes=30)\n",
        "        else:\n",
        "            return dt + timedelta(hours=4)\n",
        "\n",
        "    def dst(self, dt):\n",
        "        return timedelta(0)\n",
        "\n",
        "    def tzname(self, dt):\n",
        "        if dt >= self.UTC_MOVE_DATE:\n",
        "            return \"+04:30\"\n",
        "        return \"+04\""
      ],
      "metadata": {
        "id": "ySQhZiND90vo"
      },
      "execution_count": 6,
      "outputs": []
    },
    {
      "cell_type": "code",
      "source": [
        "tz1 = KabulTz()\n",
        "\n",
        "dt1 = datetime(1900, 11, 21, 16, 30, tzinfo=tz1)\n",
        "print(dt1.utcoffset())\n",
        "\n",
        "\n",
        "dt2 = datetime(2006, 6, 14, 13, 0, tzinfo=tz1)\n",
        "print(dt2.utcoffset())\n",
        "\n",
        "\n",
        "dt3 = dt2.astimezone(timezone.utc)\n",
        "dt3\n"
      ],
      "metadata": {
        "colab": {
          "base_uri": "https://localhost:8080/"
        },
        "id": "oETyyWxvbgNc",
        "outputId": "e763378a-fef1-45e7-ef00-6fdf323dadf7"
      },
      "execution_count": 8,
      "outputs": [
        {
          "output_type": "stream",
          "name": "stdout",
          "text": [
            "4:00:00\n",
            "4:30:00\n"
          ]
        },
        {
          "output_type": "execute_result",
          "data": {
            "text/plain": [
              "datetime.datetime(2006, 6, 14, 8, 30, tzinfo=datetime.timezone.utc)"
            ]
          },
          "metadata": {},
          "execution_count": 8
        }
      ]
    },
    {
      "cell_type": "code",
      "source": [
        "dt2\n"
      ],
      "metadata": {
        "colab": {
          "base_uri": "https://localhost:8080/"
        },
        "id": "M5fja-pjbpCd",
        "outputId": "ca088f3b-238d-4240-8ff7-74aab9cac338"
      },
      "execution_count": 11,
      "outputs": [
        {
          "output_type": "execute_result",
          "data": {
            "text/plain": [
              "datetime.datetime(2006, 6, 14, 13, 0, tzinfo=<__main__.KabulTz object at 0x7f77968934c0>)"
            ]
          },
          "metadata": {},
          "execution_count": 11
        }
      ]
    },
    {
      "cell_type": "code",
      "source": [
        "\n",
        "dt2 == dt3"
      ],
      "metadata": {
        "colab": {
          "base_uri": "https://localhost:8080/"
        },
        "id": "rZDh0rPSbwTl",
        "outputId": "8c768e0f-5068-495c-ba53-58fba34b9dc0"
      },
      "execution_count": 10,
      "outputs": [
        {
          "output_type": "execute_result",
          "data": {
            "text/plain": [
              "True"
            ]
          },
          "metadata": {},
          "execution_count": 10
        }
      ]
    }
  ]
}
