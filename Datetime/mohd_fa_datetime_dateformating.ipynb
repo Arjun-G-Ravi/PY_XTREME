{
  "nbformat": 4,
  "nbformat_minor": 0,
  "metadata": {
    "colab": {

      "provenance": [],
      "authorship_tag": "ABX9TyPgm6Ejh81NU6FdbNHDtvZ0",
      "include_colab_link": true
    },
    "kernelspec": {
      "name": "python3",
      "display_name": "Python 3"
    },
    "language_info": {
      "name": "python"
    }
  },
  "cells": [
    {
      "cell_type": "markdown",
      "metadata": {
        "id": "view-in-github",
        "colab_type": "text"
      },
      "source": [
        "<a href=\"https://colab.research.google.com/github/mohd-fa/PY_XTREME-1/blob/main/mohd_fa_datetime_dateformating.ipynb\" target=\"_parent\"><img src=\"https://colab.research.google.com/assets/colab-badge.svg\" alt=\"Open In Colab\"/></a>"
      ]
    },
    {
      "cell_type": "code",
      "execution_count": 5,
      "metadata": {
        "colab": {
          "base_uri": "https://localhost:8080/"
        },
        "id": "EQl5Z3ueAxU8",
        "outputId": "fad23d32-afef-45eb-8ec4-41d3555044f2"
      },
      "outputs": [
        {
          "output_type": "execute_result",
          "data": {
            "text/plain": [
              "datetime.date(2002, 3, 11)"
            ]
          },
          "metadata": {},
          "execution_count": 5
        }
      ],
      "source": [
        "from datetime import date\n",
        "d = date.fromordinal(730920) # 730920th day after 1. 1. 0001\n",
        "d\n"
      ]
    },
    {
      "cell_type": "code",
      "source": [
        "d.isoformat()\n",
        "\n",
        "d.strftime(\"%d/%m/%y\")\n",
        "\n",
        "d.strftime(\"%A %d. %B %Y\")\n",
        "\n",
        "d.ctime()\n",
        "\n",
        "'The {1} is {0:%d}, the {2} is {0:%B}.'.format(d, \"day\", \"month\")"
      ],
      "metadata": {
        "colab": {
          "base_uri": "https://localhost:8080/",
          "height": 36
        },
        "id": "JKsrH3b46mA8",
        "outputId": "17479abe-1de9-4e39-8566-8e844a5f34c8"
      },
      "execution_count": 7,
      "outputs": [
        {
          "output_type": "execute_result",
          "data": {
            "text/plain": [
              "'The day is 11, the month is March.'"
            ],
            "application/vnd.google.colaboratory.intrinsic+json": {
              "type": "string"
            }
          },
          "metadata": {},
          "execution_count": 7
        }
      ]
    }
  ]
}
