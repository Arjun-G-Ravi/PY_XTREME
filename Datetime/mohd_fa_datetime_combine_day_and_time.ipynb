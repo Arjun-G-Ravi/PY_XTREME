{
  "nbformat": 4,
  "nbformat_minor": 0,
  "metadata": {
    "colab": {
      "provenance": [],
      "authorship_tag": "ABX9TyOB7WF1WRHdvAYitR/cQUfC",
      "include_colab_link": true
    },
    "kernelspec": {
      "name": "python3",
      "display_name": "Python 3"
    },
    "language_info": {
      "name": "python"
    }
  },
  "cells": [
    {
      "cell_type": "markdown",
      "metadata": {
        "id": "view-in-github",
        "colab_type": "text"
      },
      "source": [
        "<a href=\"https://colab.research.google.com/github/mohd-fa/PY_XTREME-1/blob/main/Datetime/mohd_fa_datetime_combine_day_and_time.ipynb\" target=\"_parent\"><img src=\"https://colab.research.google.com/assets/colab-badge.svg\" alt=\"Open In Colab\"/></a>"
      ]
    },
    {
      "cell_type": "code",
      "source": [
        "from datetime import datetime, date, time\n",
        "\n",
        "# Using datetime.combine()\n",
        "d = date(2005, 7, 14)\n",
        "t = time(12, 30)\n",
        "datetime.combine(d, t)\n"
      ],
      "metadata": {
        "colab": {
          "base_uri": "https://localhost:8080/"
        },
        "id": "ySQhZiND90vo",
        "outputId": "76b3610f-bd74-48bb-faf3-93137899d71a"
      },
      "execution_count": 4,
      "outputs": [
        {
          "output_type": "execute_result",
          "data": {
            "text/plain": [
              "datetime.datetime(2005, 7, 14, 12, 30)"
            ]
          },
          "metadata": {},
          "execution_count": 4
        }
      ]
    }
  ]
}