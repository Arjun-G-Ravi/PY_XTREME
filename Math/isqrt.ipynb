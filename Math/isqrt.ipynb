{
  "nbformat": 4,
  "nbformat_minor": 0,
  "metadata": {
    "colab": {
      "provenance": [],
      "authorship_tag": "ABX9TyPsJj8H+DIRY5AkXQTTMvy/",
      "include_colab_link": true
    },
    "kernelspec": {
      "name": "python3",
      "display_name": "Python 3"
    },
    "language_info": {
      "name": "python"
    }
  },
  "cells": [
    {
      "cell_type": "markdown",
      "metadata": {
        "id": "view-in-github",
        "colab_type": "text"
      },
      "source": [
        "<a href=\"https://colab.research.google.com/github/aryan-anil/PY_XTREME/blob/main/Math/isqrt.ipynb\" target=\"_parent\"><img src=\"https://colab.research.google.com/assets/colab-badge.svg\" alt=\"Open In Colab\"/></a>"
      ]
    },
    {
      "cell_type": "code",
      "execution_count": 2,
      "metadata": {
        "colab": {
          "base_uri": "https://localhost:8080/"
        },
        "id": "6vjePFOIVmUi",
        "outputId": "3d3700cb-86af-45db-9242-87f39acbe916"
      },
      "outputs": [
        {
          "output_type": "stream",
          "name": "stdout",
          "text": [
            "3\n",
            "10\n"
          ]
        }
      ],
      "source": [
        "# math.isqrt() \n",
        "\n",
        "import math\n",
        "\n",
        "n = 10\n",
        "\n",
        "# Get the floor value of\n",
        "# exact square root of n\n",
        "sqrt= math.isqrt(n)\n",
        "print(sqrt)\n",
        "\n",
        "n = 100\n",
        "\n",
        "# Get the floor value of\n",
        "# exact square root of n\n",
        "sqrt = math.isqrt(n)\n",
        "print(sqrt)"
      ]
    }
  ]
}