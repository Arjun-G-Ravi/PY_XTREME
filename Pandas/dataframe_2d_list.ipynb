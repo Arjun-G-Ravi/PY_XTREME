{
  "nbformat": 4,
  "nbformat_minor": 0,
  "metadata": {
    "colab": {
      "provenance": [],
      "authorship_tag": "ABX9TyPFU9qjs224y45adWyUrqa7",
      "include_colab_link": true
    },
    "kernelspec": {
      "name": "python3",
      "display_name": "Python 3"
    },
    "language_info": {
      "name": "python"
    }
  },
  "cells": [
    {
      "cell_type": "markdown",
      "metadata": {
        "id": "view-in-github",
        "colab_type": "text"
      },
      "source": [
        "<a href=\"https://colab.research.google.com/github/aryan-anil/PY_XTREME/blob/a3/Pandas/dataframe_2d_list.ipynb\" target=\"_parent\"><img src=\"https://colab.research.google.com/assets/colab-badge.svg\" alt=\"Open In Colab\"/></a>"
      ]
    },
    {
      "cell_type": "code",
      "execution_count": 7,
      "metadata": {
        "colab": {
          "base_uri": "https://localhost:8080/"
        },
        "id": "WQMSVJRHHMEL",
        "outputId": "98dae3fc-5777-41c3-d24d-e5c17d0a4dea"
      },
      "outputs": [
        {
          "output_type": "stream",
          "name": "stdout",
          "text": [
            "Looking in indexes: https://pypi.org/simple, https://us-python.pkg.dev/colab-wheels/public/simple/\n",
            "Requirement already satisfied: pandas in /usr/local/lib/python3.8/dist-packages (1.3.5)\n",
            "Requirement already satisfied: python-dateutil>=2.7.3 in /usr/local/lib/python3.8/dist-packages (from pandas) (2.8.2)\n",
            "Requirement already satisfied: pytz>=2017.3 in /usr/local/lib/python3.8/dist-packages (from pandas) (2022.6)\n",
            "Requirement already satisfied: numpy>=1.17.3 in /usr/local/lib/python3.8/dist-packages (from pandas) (1.21.6)\n",
            "Requirement already satisfied: six>=1.5 in /usr/local/lib/python3.8/dist-packages (from python-dateutil>=2.7.3->pandas) (1.15.0)\n",
            "Empty DataFrame\n",
            "Columns: []\n",
            "Index: []\n",
            "     0    1     2\n",
            "0  abc  def   hij\n",
            "1  klm  nop  qrst\n"
          ]
        }
      ],
      "source": [
        "! pip install pandas\n",
        "import pandas as pd\n",
        "\n",
        "# Calling DataFrame constructor\n",
        "df = pd.DataFrame()\n",
        "print(df)\n",
        "\n",
        "# 2d list of strings\n",
        "_2d_lst = [['abc', 'def', 'hij'],\n",
        "       ['klm','nop', 'qrst']]\n",
        "\n",
        "# Calling DataFrame constructor on the 2d list\n",
        "dataframe = pd.DataFrame(_2d_lst)\n",
        "print(dataframe)\n",
        "\n"
      ]
    }
  ]
}