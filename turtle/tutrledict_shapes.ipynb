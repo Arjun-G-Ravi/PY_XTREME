{
  "nbformat": 4,
  "nbformat_minor": 0,
  "metadata": {
    "colab": {
      "provenance": [],
      "authorship_tag": "ABX9TyPPS7JwQ7lLHzjNhC+FyRJZ",
      "include_colab_link": true
    },
    "kernelspec": {
      "name": "python3",
      "display_name": "Python 3"
    },
    "language_info": {
      "name": "python"
    }
  },
  "cells": [
    {
      "cell_type": "markdown",
      "metadata": {
        "id": "view-in-github",
        "colab_type": "text"
      },
      "source": [
        "<a href=\"https://colab.research.google.com/github/aryan-anil/PY_XTREME/blob/a4/turtle/tutrledict_shapes.ipynb\" target=\"_parent\"><img src=\"https://colab.research.google.com/assets/colab-badge.svg\" alt=\"Open In Colab\"/></a>"
      ]
    },
    {
      "cell_type": "code",
      "execution_count": 7,
      "metadata": {
        "colab": {
          "base_uri": "https://localhost:8080/"
        },
        "id": "z6cLEVWK19n3",
        "outputId": "3c3e68db-6d3f-4536-d6aa-81fc9c53d1d5"
      },
      "outputs": [
        {
          "output_type": "stream",
          "name": "stdout",
          "text": [
            "Looking in indexes: https://pypi.org/simple, https://us-python.pkg.dev/colab-wheels/public/simple/\n",
            "Requirement already satisfied: ColabTurtlePlus in /usr/local/lib/python3.8/dist-packages (2.0.1)\n"
          ]
        }
      ],
      "source": [
        "\n",
        "!pip install ColabTurtlePlus"
      ]
    },
    {
      "cell_type": "code",
      "source": [
        "import ColabTurtlePlus.Turtle as turtle"
      ],
      "metadata": {
        "id": "0JNq1YkH2ED-"
      },
      "execution_count": 8,
      "outputs": []
    },
    {
      "cell_type": "code",
      "source": [
        "turtle.clearscreen()"
      ],
      "metadata": {
        "id": "eu2oO1uW2gbG"
      },
      "execution_count": 9,
      "outputs": []
    },
    {
      "cell_type": "code",
      "source": [
        "turtle.initializeTurtle()\n",
        "\n",
        "# for default shape\n",
        "turtle.forward(100)\n",
        "\n",
        "# for circle shape\n",
        "turtle.shape(\"circle\")\n",
        "turtle.right(60)\n",
        "turtle.forward(100)\n",
        "\n",
        "# for triangle shape\n",
        "turtle.shape(\"triangle\")\n",
        "turtle.right(60)\n",
        "turtle.forward(100)\n",
        "\n",
        "# for square shape\n",
        "turtle.shape(\"square\")\n",
        "turtle.right(60)\n",
        "turtle.forward(100)\n",
        "\n",
        "# for arrow shape\n",
        "turtle.shape(\"arrow\")\n",
        "turtle.right(60)\n",
        "turtle.forward(100)\n",
        "\n",
        "# for turtle shape\n",
        "turtle.shape(\"turtle\")\n",
        "turtle.right(60)\n",
        "turtle.forward(100)\n"
      ],
      "metadata": {
        "colab": {
          "base_uri": "https://localhost:8080/",
          "height": 621
        },
        "id": "BDbvQZZ22nUe",
        "outputId": "8ecebfb3-ec33-478b-eb57-df77dd8e6121"
      },
      "execution_count": 11,
      "outputs": [
        {
          "output_type": "display_data",
          "data": {
            "text/plain": [
              "<IPython.core.display.HTML object>"
            ],
            "text/html": [
              "\n",
              "      <svg width=\"800\" height=\"600\">  \n",
              "        <rect width=\"100%\" height=\"100%\" style=\"fill:white;stroke:;stroke-width:1\"/>\n",
              "        \n",
              "        \n",
              "        <line x1=\"400.0\" y1=\"300.0\" x2=\"500.0\" y2=\"300.0\" stroke-linecap=\"round\" style=\"stroke:black;stroke-width:1\" /><line x1=\"500.0\" y1=\"300.0\" x2=\"550.0\" y2=\"386.603\" stroke-linecap=\"round\" style=\"stroke:black;stroke-width:1\" /><line x1=\"550.0\" y1=\"386.603\" x2=\"500.0\" y2=\"473.206\" stroke-linecap=\"round\" style=\"stroke:black;stroke-width:1\" /><line x1=\"500.0\" y1=\"473.206\" x2=\"400.0\" y2=\"473.206\" stroke-linecap=\"round\" style=\"stroke:black;stroke-width:1\" /><line x1=\"400.0\" y1=\"473.206\" x2=\"350.0\" y2=\"386.603\" stroke-linecap=\"round\" style=\"stroke:black;stroke-width:1\" /><line x1=\"350.0\" y1=\"386.603\" x2=\"355.0\" y2=\"377.94274596215564\" stroke-linecap=\"round\" style=\"stroke:black;stroke-width:1\" /><line x1=\"355.0\" y1=\"377.94274596215564\" x2=\"360.0\" y2=\"369.2824919243113\" stroke-linecap=\"round\" style=\"stroke:black;stroke-width:1\" /><line x1=\"360.0\" y1=\"369.2824919243113\" x2=\"365.0\" y2=\"360.6222378864669\" stroke-linecap=\"round\" style=\"stroke:black;stroke-width:1\" /><line x1=\"365.0\" y1=\"360.6222378864669\" x2=\"370.0\" y2=\"351.96198384862254\" stroke-linecap=\"round\" style=\"stroke:black;stroke-width:1\" /><line x1=\"370.0\" y1=\"351.96198384862254\" x2=\"375.0\" y2=\"343.30172981077817\" stroke-linecap=\"round\" style=\"stroke:black;stroke-width:1\" /><line x1=\"375.0\" y1=\"343.30172981077817\" x2=\"380.0\" y2=\"334.6414757729338\" stroke-linecap=\"round\" style=\"stroke:black;stroke-width:1\" /><line x1=\"380.0\" y1=\"334.6414757729338\" x2=\"385.0\" y2=\"325.98122173508943\" stroke-linecap=\"round\" style=\"stroke:black;stroke-width:1\" /><line x1=\"385.0\" y1=\"325.98122173508943\" x2=\"390.0\" y2=\"317.32096769724507\" stroke-linecap=\"round\" style=\"stroke:black;stroke-width:1\" /><line x1=\"390.0\" y1=\"317.32096769724507\" x2=\"395.0\" y2=\"308.6607136594007\" stroke-linecap=\"round\" style=\"stroke:black;stroke-width:1\" /><line x1=\"395.0\" y1=\"308.6607136594007\" x2=\"400.0\" y2=\"300.00045962155633\" stroke-linecap=\"round\" style=\"stroke:black;stroke-width:1\" />\n",
              "        \n",
              "        \n",
              "        <g id=\"turtle\" visibility=\"visible\" transform=\"rotate(390,400.0,300.00045962155633) translate(400.0, 300.00045962155633)\">\n",
              "<path style=\"stroke:black;fill-rule:evenodd;fill:black;fill-opacity:1;\" transform=\"skewX(0) scale(1,1)\" d=\"m 1.1536693,-18.56101 c -2.105469,1.167969 -3.203125,3.441407 -3.140625,6.5 l 0.011719,0.519532 -0.300782,-0.15625 c -1.308594,-0.671875 -2.828125,-0.824219 -4.378906,-0.429688 -1.9375,0.484375 -3.8906253,2.089844 -6.0117193,4.9257825 -1.332031,1.785156 -1.714843,2.644531 -1.351562,3.035156 l 0.113281,0.125 h 0.363281 c 0.71875,0 1.308594,-0.265625 4.6679693,-2.113282 1.199219,-0.660156 2.183594,-1.199218 2.191406,-1.199218 0.00781,0 -0.023437,0.089844 -0.074218,0.195312 -0.472657,1.058594 -1.046876,2.785156 -1.335938,4.042969 -1.054688,4.574219 -0.351562,8.453125 2.101562,11.582031 0.28125,0.355469 0.292969,0.253906 -0.097656,0.722656 -2.046875,2.4609375 -3.027344,4.8984375 -2.734375,6.8046875 0.050781,0.339844 0.042969,0.335938 0.679688,0.335938 2.023437,0 4.15625,-1.316407 6.21875,-3.835938 0.222656,-0.269531 0.191406,-0.261719 0.425781,-0.113281 0.730469,0.46875 2.460938,1.390625 2.613281,1.390625 0.160157,0 1.765625,-0.753906 2.652344,-1.246094 0.167969,-0.09375 0.308594,-0.164062 0.308594,-0.160156 0.066406,0.105468 0.761719,0.855468 1.085937,1.171875 1.613282,1.570312 3.339844,2.402343 5.3593747,2.570312 0.324219,0.02734 0.355469,0.0078 0.425781,-0.316406 0.375,-1.742187 -0.382812,-4.058594 -2.1445307,-6.5585935 l -0.320312,-0.457031 0.15625,-0.183594 c 3.2460927,-3.824218 3.4335927,-9.08593704 0.558593,-15.816406 l -0.050781,-0.125 1.7382807,0.859375 c 3.585938,1.773437 4.371094,2.097656 5.085938,2.097656 0.945312,0 0.75,-0.863281 -0.558594,-2.507812 C 11.458356,-11.838353 8.3333563,-13.268041 4.8607003,-11.721166 l -0.363281,0.164063 0.019531,-0.09375 c 0.121094,-0.550781 0.183594,-1.800781 0.121094,-2.378907 -0.203125,-1.867187 -1.035157,-3.199218 -2.695313,-4.308593 -0.523437,-0.351563 -0.546875,-0.355469 -0.789062,-0.222657\" />\n",
              "</g>\n",
              "      </svg>\n",
              "    "
            ]
          },
          "metadata": {}
        }
      ]
    }
  ]
}