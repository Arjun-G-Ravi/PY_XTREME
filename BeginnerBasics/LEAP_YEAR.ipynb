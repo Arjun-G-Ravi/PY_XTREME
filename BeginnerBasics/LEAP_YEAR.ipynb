{
  "nbformat": 4,
  "nbformat_minor": 0,
  "metadata": {
    "colab": {
      "provenance": [],
      "authorship_tag": "ABX9TyPq+lfgv6p6kG4YT7BEvqlr",
      "include_colab_link": true
    },
    "kernelspec": {
      "name": "python3",
      "display_name": "Python 3"
    },
    "language_info": {
      "name": "python"
    }
  },
  "cells": [
    {
      "cell_type": "markdown",
      "metadata": {
        "id": "view-in-github",
        "colab_type": "text"
      },
      "source": [
        "<a href=\"https://colab.research.google.com/github/anirxudh/PY_XTREME/blob/main/BeginnerBasics/LEAP_YEAR.ipynb\" target=\"_parent\"><img src=\"https://colab.research.google.com/assets/colab-badge.svg\" alt=\"Open In Colab\"/></a>"
      ]
    },
    {
      "cell_type": "code",
      "execution_count": null,
      "metadata": {
        "colab": {
          "base_uri": "https://localhost:8080/"
        },
        "id": "G22VD9D7VBRJ",
        "outputId": "f2491aec-c4f2-4f2d-bf6a-1b3c3fa6f2b2"
      },
      "outputs": [
        {
          "output_type": "stream",
          "name": "stdout",
          "text": [
            "Enter a year: 2009\n",
            "2009 is not a leap year\n"
          ]
        }
      ],
      "source": [
        "#LEAP YEAR\n",
        "# get the year from user\n",
        "\n",
        "year = int(input(\"Enter a year: \"))\n",
        "\n",
        "# divided by 100 means those years ending with 00\n",
        "# century years divided by 400 is leap year\n",
        "if (year % 400 == 0) and (year % 100 == 0):\n",
        "    print(\"{0} is a leap year\".format(year))\n",
        "\n",
        "# not divided by 100 means not a century year\n",
        "# year divided by 4 is a leap year\n",
        "elif (year % 4 ==0) and (year % 100 != 0):\n",
        "    print(\"{0} is a leap year\".format(year))\n",
        "\n",
        "# if not divided by both 400 and 4 \n",
        "# year is not leap year \n",
        "\n",
        "else:\n",
        "    print(\"{0} is not a leap year\".format(year))"
      ]
    }
  ]
}