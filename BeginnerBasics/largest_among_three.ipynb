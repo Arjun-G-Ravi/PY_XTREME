{
  "nbformat": 4,
  "nbformat_minor": 0,
  "metadata": {
    "colab": {
      "provenance": [],
      "authorship_tag": "ABX9TyOlPYaVYWWbHWtPpgiq4xVX",
      "include_colab_link": true
    },
    "kernelspec": {
      "name": "python3",
      "display_name": "Python 3"
    },
    "language_info": {
      "name": "python"
    }
  },
  "cells": [
    {
      "cell_type": "markdown",
      "metadata": {
        "id": "view-in-github",
        "colab_type": "text"
      },
      "source": [
        "<a href=\"https://colab.research.google.com/github/anirxudh/PY_XTREME/blob/main/BeginnerBasics/largest_among_three.ipynb\" target=\"_parent\"><img src=\"https://colab.research.google.com/assets/colab-badge.svg\" alt=\"Open In Colab\"/></a>"
      ]
    },
    {
      "cell_type": "code",
      "execution_count": 1,
      "metadata": {
        "colab": {
          "base_uri": "https://localhost:8080/"
        },
        "id": "alo7fbNtT5F1",
        "outputId": "cbb651a5-a03c-446a-acd6-ece955722b7e"
      },
      "outputs": [
        {
          "output_type": "stream",
          "name": "stdout",
          "text": [
            "ENTER THE FIRST NUMBER: 79\n",
            "ENTER THE SECOND NUMBER: 98\n",
            "ENTER THE THIRD NUMBER: 56\n",
            "The largest number is 98\n"
          ]
        }
      ],
      "source": [
        "# TO FIND LARGEST\n",
        "\n",
        "# get user input\n",
        "\n",
        "a=int(input(\"ENTER THE FIRST NUMBER: \"))\n",
        "b=int(input(\"ENTER THE SECOND NUMBER: \"))\n",
        "c=int(input(\"ENTER THE THIRD NUMBER: \"))\n",
        "\n",
        "# check the largest condition\n",
        "if (a >= b) and (a >= c ):\n",
        "   largest = a\n",
        "elif (b >= a) and (b >= c):\n",
        "   largest = b\n",
        "else:\n",
        "   largest = c\n",
        "\n",
        "print(\"The largest number is\", largest)"
      ]
    }
  ]
}