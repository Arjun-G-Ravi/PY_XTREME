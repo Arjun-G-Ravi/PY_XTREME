{
  "nbformat": 4,
  "nbformat_minor": 0,
  "metadata": {
    "colab": {
      "provenance": [],
      "authorship_tag": "ABX9TyOyX75TSLmxQcaC5Znn21XW",
      "include_colab_link": true
    },
    "kernelspec": {
      "name": "python3",
      "display_name": "Python 3"
    },
    "language_info": {
      "name": "python"
    }
  },
  "cells": [
    {
      "cell_type": "markdown",
      "metadata": {
        "id": "view-in-github",
        "colab_type": "text"
      },
      "source": [
        "<a href=\"https://colab.research.google.com/github/anirxudh/PY_XTREME/blob/main/BeginnerBasics/prime.ipynb\" target=\"_parent\"><img src=\"https://colab.research.google.com/assets/colab-badge.svg\" alt=\"Open In Colab\"/></a>"
      ]
    },
    {
      "cell_type": "code",
      "execution_count": null,
      "metadata": {
        "colab": {
          "base_uri": "https://localhost:8080/"
        },
        "id": "lSG7uZolSnc7",
        "outputId": "534664bb-0ba9-406e-f6fc-65abbb31abef"
      },
      "outputs": [
        {
          "output_type": "stream",
          "name": "stdout",
          "text": [
            "ENTER A NUMBER TO CHECKED: 6\n",
            "6 is not a prime number\n"
          ]
        }
      ],
      "source": [
        "#ANIRUDH S NAIR\n",
        "#PRIME NUMBER CHECK\n",
        "\n",
        "# get the number from user\n",
        "\n",
        "a=int(input(\"ENTER A NUMBER TO CHECKED: \"))\n",
        "\n",
        "# make a switch 'flag' to denote truth of output\n",
        "flag=0\n",
        "\n",
        "if(a>1):\n",
        "  for i in range(2, a):\n",
        "        if (a % i) == 0:\n",
        "            # if true then flag made to one\n",
        "            flag = 1\n",
        "            # break out of loop\n",
        "            break\n",
        "\n",
        "# check if flag is 1\n",
        "if flag:\n",
        "    print(a, \"is not a prime number\")\n",
        "else:\n",
        "    print(a, \"is a prime number\")\n"
      ]
    }
  ]
}