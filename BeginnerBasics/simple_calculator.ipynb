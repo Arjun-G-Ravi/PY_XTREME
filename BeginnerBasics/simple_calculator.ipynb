{
  "nbformat": 4,
  "nbformat_minor": 0,
  "metadata": {
    "colab": {
      "provenance": [],
      "toc_visible": true,
      "authorship_tag": "ABX9TyP5ofnwB0yBiPB8KYSzQBy2",
      "include_colab_link": true
    },
    "kernelspec": {
      "name": "python3",
      "display_name": "Python 3"
    },
    "language_info": {
      "name": "python"
    }
  },
  "cells": [
    {
      "cell_type": "markdown",
      "metadata": {
        "id": "view-in-github",
        "colab_type": "text"
      },
      "source": [
        "<a href=\"https://colab.research.google.com/github/anirxudh/PY_XTREME/blob/main/BeginnerBasics/simple_calculator.ipynb\" target=\"_parent\"><img src=\"https://colab.research.google.com/assets/colab-badge.svg\" alt=\"Open In Colab\"/></a>"
      ]
    },
    {
      "cell_type": "code",
      "execution_count": null,
      "metadata": {
        "colab": {
          "base_uri": "https://localhost:8080/"
        },
        "id": "OpHxfugdNFq_",
        "outputId": "9c6b6abf-36e7-4bf8-870a-70d5b2b5fca0"
      },
      "outputs": [
        {
          "name": "stdout",
          "output_type": "stream",
          "text": [
            "choose operation: \n",
            "1)Add\n",
            "2)Subtract\n",
            "3)Multiply\n",
            "4)Divide\n",
            "Enter choice(1/2/3/4): 1\n",
            "Enter first number: 23\n",
            "Enter second number: 45\n",
            "23.0 + 45.0 = 68.0\n",
            "do you want to conitnue? (1/0): 0\n"
          ]
        }
      ],
      "source": [
        "#ANIRUDH S NAIR\n",
        "#SIMPLE CALCULATOR\n",
        "\n",
        "# function to add two numbers\n",
        "def add(x, y):\n",
        "    return x + y\n",
        "\n",
        "# function to subtract two numbers\n",
        "def subtract(x, y):\n",
        "    return x - y\n",
        "\n",
        "# function to multipliy two numbers\n",
        "def multiply(x, y):\n",
        "    return x * y\n",
        "\n",
        "# function to divides two numbers\n",
        "def divide(x, y):\n",
        "    return x / y\n",
        "\n",
        "\n",
        "print(\"choose operation: \")\n",
        "print(\"1)Add\")\n",
        "print(\"2)Subtract\")\n",
        "print(\"3)Multiply\")\n",
        "print(\"4)Divide\")\n",
        "\n",
        "while True:\n",
        "    # input of the user\n",
        "    choice = input(\"Enter choice(1/2/3/4): \")\n",
        "  \n",
        "    if choice in ('1', '2', '3', '4'):\n",
        "        num1 = float(input(\"Enter first number: \"))\n",
        "        num2 = float(input(\"Enter second number: \"))\n",
        "\n",
        "        if choice == '1':\n",
        "            print(num1, \"+\", num2, \"=\", add(num1, num2))\n",
        "\n",
        "        elif choice == '2':\n",
        "            print(num1, \"-\", num2, \"=\", subtract(num1, num2))\n",
        "\n",
        "        elif choice == '3':\n",
        "            print(num1, \"*\", num2, \"=\", multiply(num1, num2))\n",
        "\n",
        "        elif choice == '4':\n",
        "            print(num1, \"/\", num2, \"=\", divide(num1, num2))\n",
        "        \n",
        "        # checking if user wanrts to coontinue\n",
        "      \n",
        "        next_calculation = input(\"do you want to conitnue? (1/0): \")\n",
        "        if next_calculation == \"0\":\n",
        "          break\n",
        "    \n",
        "    else:\n",
        "        print(\"Invalid Input\")"
      ]
    },
    {
      "cell_type": "markdown",
      "source": [
        "# New Section"
      ],
      "metadata": {
        "id": "jG-fngTGP-H9"
      }
    }
  ]
}