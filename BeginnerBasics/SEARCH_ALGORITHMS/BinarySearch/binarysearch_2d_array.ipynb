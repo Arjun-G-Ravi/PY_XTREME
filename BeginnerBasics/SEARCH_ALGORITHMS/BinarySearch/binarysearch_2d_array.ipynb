{
  "nbformat": 4,
  "nbformat_minor": 0,
  "metadata": {
    "colab": {
      "provenance": [],
      "authorship_tag": "ABX9TyOGxXx0pUtHCy6zFx6YwHYF",
      "include_colab_link": true
    },
    "kernelspec": {
      "name": "python3",
      "display_name": "Python 3"
    },
    "language_info": {
      "name": "python"
    }
  },
  "cells": [
    {
      "cell_type": "markdown",
      "metadata": {
        "id": "view-in-github",
        "colab_type": "text"
      },
      "source": [
        "<a href=\"https://colab.research.google.com/github/aryan-anil/PY_XTREME/blob/main/BeginnerBasics/SEARCH_ALGORITHMS/BinarySearch/binarysearch_2d_array.ipynb\" target=\"_parent\"><img src=\"https://colab.research.google.com/assets/colab-badge.svg\" alt=\"Open In Colab\"/></a>"
      ]
    },
    {
      "cell_type": "code",
      "execution_count": 9,
      "metadata": {
        "colab": {
          "base_uri": "https://localhost:8080/"
        },
        "id": "-Oi4VdhvCPle",
        "outputId": "4d03f21f-af6e-4408-fc01-8ab4888d325e"
      },
      "outputs": [
        {
          "output_type": "stream",
          "name": "stdout",
          "text": [
            "[[10, 20, 30, 40], [15, 25, 35, 45], [28, 29, 37, 49], [33, 34, 38, 50]]\n",
            "row index: 1 column index: 1\n"
          ]
        }
      ],
      "source": [
        "def binarysearch_2d(array,target):\n",
        "\n",
        "  column=find_column(array,target)\n",
        "  row=find_row(array,column,target)\n",
        "  print(\"row index:\",row,\"column index:\",column)\n",
        "\n",
        "\n",
        "def find_column(array,target):\n",
        "  start=0;\n",
        "  end=len(array[0])-1\n",
        "  while (start<=end):\n",
        "    mid=start+(end - start)//2\n",
        "    if (target<array[0][mid]):\n",
        "      end=mid-1\n",
        "    elif(target>array[0][mid]):\n",
        "      if(mid==len(array[0])-1 or target< array[0][mid+1]):\n",
        "        return mid\n",
        "      else:\n",
        "        start=mid+1\n",
        "    else:\n",
        "      return mid\n",
        "  return -1\n",
        "\n",
        "def find_row(array,column,target):\n",
        "  start=0;\n",
        "  end=len(array)-1\n",
        "  while (start<=end):\n",
        "    mid=start+(end - start)//2\n",
        "    if (target<array[mid][column]):\n",
        "      end=mid-1\n",
        "    elif(target>array[mid][column]):\n",
        "     start=mid+1\n",
        "    else:\n",
        "      return mid\n",
        "  return -1\n",
        "\n",
        "\n",
        "array=[[10,20,30,40],[15,25,35,45],[28,29,37,49],[33,34,38,50]]\n",
        "print(array)\n",
        "ans=binarysearch_2d(array,25)\n"
      ]
    }
  ]
}