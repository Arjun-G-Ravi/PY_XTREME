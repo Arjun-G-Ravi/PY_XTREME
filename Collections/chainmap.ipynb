{
  "nbformat": 4,
  "nbformat_minor": 0,
  "metadata": {
    "colab": {
      "provenance": [],
      "authorship_tag": "ABX9TyPz3lPOPxAEnlG9J+XucKXj",
      "include_colab_link": true
    },
    "kernelspec": {
      "name": "python3",
      "display_name": "Python 3"
    },
    "language_info": {
      "name": "python"
    }
  },
  "cells": [
    {
      "cell_type": "markdown",
      "metadata": {
        "id": "view-in-github",
        "colab_type": "text"
      },
      "source": [
        "<a href=\"https://colab.research.google.com/github/aryan-anil/PY_XTREME/blob/main/Collections/chainmap.ipynb\" target=\"_parent\"><img src=\"https://colab.research.google.com/assets/colab-badge.svg\" alt=\"Open In Colab\"/></a>"
      ]
    },
    {
      "cell_type": "code",
      "execution_count": 1,
      "metadata": {
        "colab": {
          "base_uri": "https://localhost:8080/"
        },
        "id": "CY1_cZUrjmaR",
        "outputId": "80bbffb4-a4ba-4d20-8b1b-d5f9ec6b3344"
      },
      "outputs": [
        {
          "output_type": "stream",
          "name": "stdout",
          "text": [
            "All the ChainMap contents are :  [{'a': 1, 'b': 2}, {'b': 3, 'c': 4}]\n",
            "\n",
            "Keys of ChainMap as list :  ['b', 'c', 'a'] \n",
            "\n",
            "Values of ChainMap as list:  [2, 4, 1]\n"
          ]
        }
      ],
      "source": [
        "#chainmaps from collections\n",
        "import collections \n",
        " \n",
        "#initializing dictionaries\n",
        "dict1 = { 'a': 1, 'b':2 }\n",
        "\n",
        "dict2 = { 'b': 3, 'c':4 }\n",
        "\n",
        "\n",
        " \n",
        "#initializing ChainMap\n",
        "chain = collections.ChainMap (dict1, dict2) \n",
        " \n",
        "\n",
        "print (\"the ChainMap is: \",chain.maps) \n",
        "print () \n",
        " \n",
        "#printing keys using keys()\n",
        "print (\"Keys of ChainMap as list : \",list (chain.keys ()),\"\\n\") \n",
        " \n",
        " \n",
        "#printing values using values()\n",
        "print (\"Values of ChainMap as list: \",list (chain.values ())) "
      ]
    }
  ]
}