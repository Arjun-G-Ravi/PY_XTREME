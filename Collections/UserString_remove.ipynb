{
  "nbformat": 4,
  "nbformat_minor": 0,
  "metadata": {
    "colab": {
      "provenance": [],
      "authorship_tag": "ABX9TyPMqYcm0yjtI2k1g5L7VRZt",
      "include_colab_link": true
    },
    "kernelspec": {
      "name": "python3",
      "display_name": "Python 3"
    },
    "language_info": {
      "name": "python"
    }
  },
  "cells": [
    {
      "cell_type": "markdown",
      "metadata": {
        "id": "view-in-github",
        "colab_type": "text"
      },
      "source": [
        "<a href=\"https://colab.research.google.com/github/aryan-anil/PY_XTREME/blob/a1/Collections/UserString_remove.ipynb\" target=\"_parent\"><img src=\"https://colab.research.google.com/assets/colab-badge.svg\" alt=\"Open In Colab\"/></a>"
      ]
    },
    {
      "cell_type": "code",
      "execution_count": 1,
      "metadata": {
        "colab": {
          "base_uri": "https://localhost:8080/"
        },
        "id": "pTHfVg1zBPX8",
        "outputId": "7d8a07ac-76d5-4a2b-b7a5-642a5d63761b"
      },
      "outputs": [
        {
          "output_type": "stream",
          "name": "stdout",
          "text": [
            "Original String: name is bob\n",
            "String After removing: name\n"
          ]
        }
      ],
      "source": [
        "# userstring is a wrapper class around string objects\n",
        "#creating a mutable string\n",
        "\n",
        "from collections import UserString\n",
        "\n",
        "\n",
        "# Creating a class Mystring\n",
        "class Mystring(UserString):\n",
        "\t\n",
        "    # Function to remove from string\n",
        "    def remove(self, s):\n",
        "        self.data = self.data.replace(s, \"\")\n",
        "\t\t\n",
        "\t\n",
        "name = Mystring(\"name is bob\")\n",
        "print(\"Original String:\", name.data)\n",
        "\n",
        "# Appending to string\n",
        "name.remove(\" is bob\")\n",
        "print(\"String After removing:\", name.data)"
      ]
    }
  ]
}