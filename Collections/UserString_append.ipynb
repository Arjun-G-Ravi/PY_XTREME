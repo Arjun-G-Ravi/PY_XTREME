{
  "nbformat": 4,
  "nbformat_minor": 0,
  "metadata": {
    "colab": {
      "provenance": [],
      "authorship_tag": "ABX9TyNc9u8DdqK1dz/3d35tDn9k",
      "include_colab_link": true
    },
    "kernelspec": {
      "name": "python3",
      "display_name": "Python 3"
    },
    "language_info": {
      "name": "python"
    }
  },
  "cells": [
    {
      "cell_type": "markdown",
      "metadata": {
        "id": "view-in-github",
        "colab_type": "text"
      },
      "source": [
        "<a href=\"https://colab.research.google.com/github/aryan-anil/PY_XTREME/blob/main/Collections/UserString_append.ipynb\" target=\"_parent\"><img src=\"https://colab.research.google.com/assets/colab-badge.svg\" alt=\"Open In Colab\"/></a>"
      ]
    },
    {
      "cell_type": "code",
      "execution_count": 2,
      "metadata": {
        "colab": {
          "base_uri": "https://localhost:8080/"
        },
        "id": "-9nf9xLW9yjD",
        "outputId": "d04990fa-ad77-4566-b7e8-ed6ee1aa2387"
      },
      "outputs": [
        {
          "output_type": "stream",
          "name": "stdout",
          "text": [
            "Original String: name\n",
            "String After Appending: name is bob\n"
          ]
        }
      ],
      "source": [
        "# userstring is a wrapper class around string objects\n",
        "#creating a mutable string\n",
        "\n",
        "from collections import UserString\n",
        "\n",
        "\n",
        "# Creating a class Mystring\n",
        "class Mystring(UserString):\n",
        "\t\n",
        "\t# Function to append to string\n",
        "\tdef append(self, s):\n",
        "\t\tself.data += s\n",
        "\t\t\n",
        "\t\n",
        "name = Mystring(\"name\")\n",
        "print(\"Original String:\", name.data)\n",
        "\n",
        "# Appending to string\n",
        "name.append(\" is bob\")\n",
        "print(\"String After Appending:\", name.data)\n",
        "\n",
        "\n",
        "\n",
        "\n"
      ]
    }
  ]
}