{
  "nbformat": 4,
  "nbformat_minor": 0,
  "metadata": {
    "colab": {
      "provenance": [],
      "authorship_tag": "ABX9TyMGzc+H8jvHlM2sk6pyryZf",
      "include_colab_link": true
    },
    "kernelspec": {
      "name": "python3",
      "display_name": "Python 3"
    },
    "language_info": {
      "name": "python"
    }
  },
  "cells": [
    {
      "cell_type": "markdown",
      "metadata": {
        "id": "view-in-github",
        "colab_type": "text"
      },
      "source": [
        "<a href=\"https://colab.research.google.com/github/HKRcodes/PY_XTREME/blob/main/pytorch/Selection_from_tensor.ipynb\" target=\"_parent\"><img src=\"https://colab.research.google.com/assets/colab-badge.svg\" alt=\"Open In Colab\"/></a>"
      ]
    },
    {
      "cell_type": "code",
      "execution_count": 15,
      "metadata": {
        "colab": {
          "base_uri": "https://localhost:8080/"
        },
        "id": "nrYNRPPhKV8f",
        "outputId": "34d41ef4-6f32-462f-dbef-127c2dcb4bbf"
      },
      "outputs": [
        {
          "output_type": "stream",
          "name": "stdout",
          "text": [
            "tensor([[0.9679, 0.1607, 0.9913],\n",
            "        [0.5616, 0.4019, 0.6865],\n",
            "        [0.8304, 0.6455, 0.2444],\n",
            "        [0.0328, 0.5238, 0.8211],\n",
            "        [0.2523, 0.8089, 0.1260]])\n"
          ]
        }
      ],
      "source": [
        "import torch\n",
        "x = torch.rand(5,3)\n",
        "print(x)\n"
      ]
    },
    {
      "cell_type": "code",
      "source": [
        "print(x[:, 0])"
      ],
      "metadata": {
        "colab": {
          "base_uri": "https://localhost:8080/"
        },
        "id": "wplGX6e8R5L9",
        "outputId": "f57a366f-70e7-4a86-a454-0a7037b3fb61"
      },
      "execution_count": 16,
      "outputs": [
        {
          "output_type": "stream",
          "name": "stdout",
          "text": [
            "tensor([0.9679, 0.5616, 0.8304, 0.0328, 0.2523])\n"
          ]
        }
      ]
    }
  ]
}