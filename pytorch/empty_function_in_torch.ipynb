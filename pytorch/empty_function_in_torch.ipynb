{
  "nbformat": 4,
  "nbformat_minor": 0,
  "metadata": {
    "colab": {
      "provenance": [],
      "authorship_tag": "ABX9TyMS4/XL3xAeEgNFIMBCLkur",
      "include_colab_link": true
    },
    "kernelspec": {
      "name": "python3",
      "display_name": "Python 3"
    },
    "language_info": {
      "name": "python"
    }
  },
  "cells": [
    {
      "cell_type": "markdown",
      "metadata": {
        "id": "view-in-github",
        "colab_type": "text"
      },
      "source": [
        "<a href=\"https://colab.research.google.com/github/HKRcodes/PY_XTREME/blob/main/pytorch/empty_function_in_torch.ipynb\" target=\"_parent\"><img src=\"https://colab.research.google.com/assets/colab-badge.svg\" alt=\"Open In Colab\"/></a>"
      ]
    },
    {
      "cell_type": "code",
      "execution_count": 2,
      "metadata": {
        "colab": {
          "base_uri": "https://localhost:8080/"
        },
        "id": "nrYNRPPhKV8f",
        "outputId": "98dac5e0-06e1-41d4-83cf-be460015ba5a"
      },
      "outputs": [
        {
          "output_type": "stream",
          "name": "stdout",
          "text": [
            "tensor([[[[2.3302e-34, 0.0000e+00, 3.8115e-43, 0.0000e+00,        nan],\n",
            "          [0.0000e+00, 2.6912e+20, 1.9618e+20, 3.4590e-12, 2.0572e+26],\n",
            "          [1.1446e+24, 9.1042e-12, 1.1028e+21, 7.2065e+31, 2.4471e+32],\n",
            "          [2.7374e+20, 2.6219e+20, 2.1127e-19, 1.8990e+28, 2.9602e+29]],\n",
            "\n",
            "         [[7.1447e+31, 2.2266e-15, 1.7753e+28, 1.0891e+27, 3.3776e-15],\n",
            "          [7.3988e+31, 4.4849e+21, 2.7370e+20, 6.4640e-04, 1.8461e+20],\n",
            "          [9.0941e-04, 1.7860e+25, 2.8940e+12, 7.5338e+28, 4.9995e-14],\n",
            "          [1.1096e+27, 9.1041e-12, 6.2609e+22, 4.7428e+30, 8.1553e-33]]],\n",
            "\n",
            "\n",
            "        [[[7.5205e+28, 7.6286e-19, 7.1758e+22, 1.4603e-19, 1.8888e+31],\n",
            "          [3.1035e+27, 3.3460e-12, 2.6209e+20, 2.0530e-19, 2.9965e+32],\n",
            "          [9.1041e-12, 6.2609e+22, 4.7428e+30, 3.5833e-14, 1.8461e+20],\n",
            "          [9.0941e-04, 1.7860e+31, 1.6458e+19, 1.1432e+27, 6.2625e+22]],\n",
            "\n",
            "         [[4.7428e+30, 1.7743e+28, 1.3458e-14, 1.4326e-19, 2.7909e+23],\n",
            "          [6.2608e+22, 4.7428e+30, 1.7860e+31, 2.7518e+12, 7.5338e+28],\n",
            "          [2.8376e+20, 5.0950e-14, 1.6109e-19, 1.8888e+31, 1.9421e+20],\n",
            "          [9.3311e-40, 7.5338e+28, 7.6286e-19, 3.6448e-42, 0.0000e+00]]]])\n"
          ]
        }
      ],
      "source": [
        "import torch\n",
        "x = torch.empty(2,2,4,5)\n",
        "print(x)"
      ]
    }
  ]
}