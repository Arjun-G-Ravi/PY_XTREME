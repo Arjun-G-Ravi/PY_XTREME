{
  "nbformat": 4,
  "nbformat_minor": 0,
  "metadata": {
    "colab": {
      "provenance": [],
      "authorship_tag": "ABX9TyPL8dmp6W69nD73sJw1PER4",
      "include_colab_link": true
    },
    "kernelspec": {
      "name": "python3",
      "display_name": "Python 3"
    },
    "language_info": {
      "name": "python"
    }
  },
  "cells": [
    {
      "cell_type": "markdown",
      "metadata": {
        "id": "view-in-github",
        "colab_type": "text"
      },
      "source": [
        "<a href=\"https://colab.research.google.com/github/HKRcodes/PY_XTREME/blob/main/pytorch/View_tensor.ipynb\" target=\"_parent\"><img src=\"https://colab.research.google.com/assets/colab-badge.svg\" alt=\"Open In Colab\"/></a>"
      ]
    },
    {
      "cell_type": "code",
      "execution_count": 20,
      "metadata": {
        "colab": {
          "base_uri": "https://localhost:8080/"
        },
        "id": "nrYNRPPhKV8f",
        "outputId": "0c918712-a9d9-45b5-81bd-ec12774cfcd1"
      },
      "outputs": [
        {
          "output_type": "stream",
          "name": "stdout",
          "text": [
            "tensor([[0.6504, 0.6590, 0.6594, 0.4276, 0.1071],\n",
            "        [0.0943, 0.9356, 0.3193, 0.4517, 0.4883],\n",
            "        [0.0043, 0.6495, 0.9275, 0.5858, 0.2366],\n",
            "        [0.8958, 0.8905, 0.7924, 0.4004, 0.6325],\n",
            "        [0.4919, 0.0038, 0.1095, 0.4524, 0.3861]])\n",
            "tensor([0.6504, 0.6590, 0.6594, 0.4276, 0.1071, 0.0943, 0.9356, 0.3193, 0.4517,\n",
            "        0.4883, 0.0043, 0.6495, 0.9275, 0.5858, 0.2366, 0.8958, 0.8905, 0.7924,\n",
            "        0.4004, 0.6325, 0.4919, 0.0038, 0.1095, 0.4524, 0.3861])\n"
          ]
        }
      ],
      "source": [
        "import torch\n",
        "x = torch.rand(5,5)\n",
        "print(x)\n",
        "y=x.view(25)\n",
        "print(y)"
      ]
    }
  ]
}