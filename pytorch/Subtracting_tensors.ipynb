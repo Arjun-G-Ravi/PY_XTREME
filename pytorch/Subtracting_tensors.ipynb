{
  "nbformat": 4,
  "nbformat_minor": 0,
  "metadata": {
    "colab": {
      "provenance": [],
      "authorship_tag": "ABX9TyN7XxMeY/KHs+zfGdro/hSB",
      "include_colab_link": true
    },
    "kernelspec": {
      "name": "python3",
      "display_name": "Python 3"
    },
    "language_info": {
      "name": "python"
    }
  },
  "cells": [
    {
      "cell_type": "markdown",
      "metadata": {
        "id": "view-in-github",
        "colab_type": "text"
      },
      "source": [
        "<a href=\"https://colab.research.google.com/github/HKRcodes/PY_XTREME/blob/main/pytorch/Subtracting_tensors.ipynb\" target=\"_parent\"><img src=\"https://colab.research.google.com/assets/colab-badge.svg\" alt=\"Open In Colab\"/></a>"
      ]
    },
    {
      "cell_type": "code",
      "execution_count": 12,
      "metadata": {
        "colab": {
          "base_uri": "https://localhost:8080/"
        },
        "id": "nrYNRPPhKV8f",
        "outputId": "bb083585-ce1f-4b76-cb91-bb1e55ae4be0"
      },
      "outputs": [
        {
          "output_type": "stream",
          "name": "stdout",
          "text": [
            "tensor([[0.0590, 0.1681],\n",
            "        [0.1753, 0.0612]])\n",
            "tensor([[0.5030, 0.6178],\n",
            "        [0.8185, 0.4252]])\n",
            "tensor([[-0.4440, -0.4496],\n",
            "        [-0.6432, -0.3640]])\n"
          ]
        }
      ],
      "source": [
        "import torch\n",
        "x = torch.rand(2,2)\n",
        "y = torch.rand(2,2)\n",
        "print(x)\n",
        "print(y)\n",
        "z = torch.sub(x,y)\n",
        "print(z)"
      ]
    }
  ]
}