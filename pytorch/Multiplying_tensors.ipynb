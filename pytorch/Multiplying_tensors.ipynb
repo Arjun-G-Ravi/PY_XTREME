{
  "nbformat": 4,
  "nbformat_minor": 0,
  "metadata": {
    "colab": {
      "provenance": [],
      "authorship_tag": "ABX9TyP4Ta2ew1jU+2PoMWcpPm40",
      "include_colab_link": true
    },
    "kernelspec": {
      "name": "python3",
      "display_name": "Python 3"
    },
    "language_info": {
      "name": "python"
    }
  },
  "cells": [
    {
      "cell_type": "markdown",
      "metadata": {
        "id": "view-in-github",
        "colab_type": "text"
      },
      "source": [
        "<a href=\"https://colab.research.google.com/github/HKRcodes/PY_XTREME/blob/main/pytorch/Multiplying_tensors.ipynb\" target=\"_parent\"><img src=\"https://colab.research.google.com/assets/colab-badge.svg\" alt=\"Open In Colab\"/></a>"
      ]
    },
    {
      "cell_type": "code",
      "execution_count": 13,
      "metadata": {
        "colab": {
          "base_uri": "https://localhost:8080/"
        },
        "id": "nrYNRPPhKV8f",
        "outputId": "eb09212a-77a5-4e6f-a1b7-8acc9b143ce7"
      },
      "outputs": [
        {
          "output_type": "stream",
          "name": "stdout",
          "text": [
            "tensor([[0.5495, 0.4572],\n",
            "        [0.0011, 0.8210]])\n",
            "tensor([[0.1439, 0.3665],\n",
            "        [0.5695, 0.3396]])\n",
            "tensor([[0.0791, 0.1676],\n",
            "        [0.0007, 0.2788]])\n"
          ]
        }
      ],
      "source": [
        "import torch\n",
        "x = torch.rand(2,2)\n",
        "y = torch.rand(2,2)\n",
        "print(x)\n",
        "print(y)\n",
        "z = torch.mul(x,y)\n",
        "print(z)"
      ]
    }
  ]
}