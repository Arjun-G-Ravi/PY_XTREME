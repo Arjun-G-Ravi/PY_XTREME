{
  "nbformat": 4,
  "nbformat_minor": 0,
  "metadata": {
    "colab": {
      "provenance": [],
      "authorship_tag": "ABX9TyNXwvAhuFlwqPLCfaAT6ynY",
      "include_colab_link": true
    },
    "kernelspec": {
      "name": "python3",
      "display_name": "Python 3"
    },
    "language_info": {
      "name": "python"
    }
  },
  "cells": [
    {
      "cell_type": "markdown",
      "metadata": {
        "id": "view-in-github",
        "colab_type": "text"
      },
      "source": [
        "<a href=\"https://colab.research.google.com/github/HKRcodes/PY_XTREME/blob/main/pytorch/rand_in_torch.ipynb\" target=\"_parent\"><img src=\"https://colab.research.google.com/assets/colab-badge.svg\" alt=\"Open In Colab\"/></a>"
      ]
    },
    {
      "cell_type": "code",
      "execution_count": 4,
      "metadata": {
        "colab": {
          "base_uri": "https://localhost:8080/"
        },
        "id": "nrYNRPPhKV8f",
        "outputId": "1e2843c0-de23-4688-c7af-fb10971f76c4"
      },
      "outputs": [
        {
          "output_type": "stream",
          "name": "stdout",
          "text": [
            "tensor([[[0.6936, 0.7204, 0.9267, 0.7309],\n",
            "         [0.3669, 0.4128, 0.2527, 0.4991],\n",
            "         [0.8685, 0.9113, 0.9918, 0.0732]],\n",
            "\n",
            "        [[0.3986, 0.0702, 0.5571, 0.1437],\n",
            "         [0.1482, 0.3118, 0.6836, 0.1300],\n",
            "         [0.9478, 0.1715, 0.9578, 0.5417]]])\n"
          ]
        }
      ],
      "source": [
        "import torch\n",
        "x = torch.rand(2,3,4)\n",
        "print(x)"
      ]
    }
  ]
}