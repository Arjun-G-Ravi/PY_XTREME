{
  "nbformat": 4,
  "nbformat_minor": 0,
  "metadata": {
    "colab": {
      "provenance": [],
      "authorship_tag": "ABX9TyMtMtH65PuyDFYqKESG9W0C",
      "include_colab_link": true
    },
    "kernelspec": {
      "name": "python3",
      "display_name": "Python 3"
    },
    "language_info": {
      "name": "python"
    }
  },
  "cells": [
    {
      "cell_type": "markdown",
      "metadata": {
        "id": "view-in-github",
        "colab_type": "text"
      },
      "source": [
        "<a href=\"https://colab.research.google.com/github/amithbiju/PY_XTREME/blob/vr_2/Matplotlib/Bar_plot.ipynb\" target=\"_parent\"><img src=\"https://colab.research.google.com/assets/colab-badge.svg\" alt=\"Open In Colab\"/></a>"
      ]
    },
    {
      "cell_type": "code",
      "execution_count": 1,
      "metadata": {
        "colab": {
          "base_uri": "https://localhost:8080/",
          "height": 265
        },
        "id": "-JXkZDtp_9Ab",
        "outputId": "1437cae7-7073-4391-e349-1bc6a4c57980"
      },
      "outputs": [
        {
          "output_type": "display_data",
          "data": {
            "text/plain": [
              "<Figure size 432x288 with 1 Axes>"
            ],
            "image/png": "[encoded data removed]"
          },
          "metadata": {
            "needs_background": "light"
          }
        }
      ],
      "source": [
        "# importing matplotlib module\n",
        "from matplotlib import pyplot as plt\n",
        "\n",
        "# x-axis values\n",
        "x = [5, 2, 9, 4, 7]\n",
        "\n",
        "# Y-axis values\n",
        "y = [10, 5, 8, 4, 2]\n",
        "\n",
        "# Function to plot the bar\n",
        "plt.bar(x,y)\n",
        "\n",
        "# function to show the plot\n",
        "plt.show()\n"
      ]
    }
  ]
}